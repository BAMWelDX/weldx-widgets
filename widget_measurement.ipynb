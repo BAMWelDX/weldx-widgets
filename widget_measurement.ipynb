{
 "cells": [
  {
   "cell_type": "code",
   "execution_count": 1,
   "id": "96c67192-68ed-465f-8497-37fa08305623",
   "metadata": {},
   "outputs": [],
   "source": [
    "%load_ext autoreload\n",
    "%autoreload 2"
   ]
  },
  {
   "cell_type": "code",
   "execution_count": 2,
   "id": "83bd1404-a783-4028-8ddb-e90ab4e38f76",
   "metadata": {},
   "outputs": [],
   "source": [
    "%matplotlib widget"
   ]
  },
  {
   "cell_type": "code",
   "execution_count": 3,
   "id": "fd227d35-6c92-4658-9905-245a08f717b7",
   "metadata": {},
   "outputs": [],
   "source": [
    "from widget_measurement import WidgetMeasurement"
   ]
  },
  {
   "cell_type": "code",
   "execution_count": 4,
   "id": "0d75460a-b976-434e-85c8-a4e5b340f579",
   "metadata": {},
   "outputs": [
    {
     "name": "stdout",
     "output_type": "stream",
     "text": [
      "CPU times: user 4 µs, sys: 1 µs, total: 5 µs\n",
      "Wall time: 7.63 µs\n"
     ]
    }
   ],
   "source": [
    "%time import weldx"
   ]
  },
  {
   "cell_type": "code",
   "execution_count": 5,
   "id": "820960f8-abab-487e-84eb-f044dc75e04c",
   "metadata": {},
   "outputs": [],
   "source": [
    "with weldx.WeldxFile(\"./single_pass_weld.weldx\") as fh:\n",
    "    m = fh[\"measurements\"]"
   ]
  },
  {
   "cell_type": "code",
   "execution_count": 6,
   "id": "ebf65d50-3574-4690-a247-bf5b213cf1fb",
   "metadata": {},
   "outputs": [],
   "source": [
    "w = WidgetMeasurement(m)"
   ]
  },
  {
   "cell_type": "code",
   "execution_count": 7,
   "id": "572e2041-cb1b-450f-839c-4d4c0105cccc",
   "metadata": {},
   "outputs": [
    {
     "data": {
      "application/vnd.jupyter.widget-view+json": {
       "model_id": "3c1fe8262a944af78ff5390efda512de",
       "version_major": 2,
       "version_minor": 0
      },
      "text/plain": [
       "Output()"
      ]
     },
     "metadata": {},
     "output_type": "display_data"
    }
   ],
   "source": [
    "w.display()"
   ]
  },
  {
   "cell_type": "code",
   "execution_count": 8,
   "id": "099c98c0-6739-4ea2-8694-0da79f3ea3c7",
   "metadata": {},
   "outputs": [],
   "source": [
    "w.set_visible(False)"
   ]
  },
  {
   "cell_type": "code",
   "execution_count": null,
   "id": "32fa593f-6ec0-40f1-b0eb-0c9c37411dd8",
   "metadata": {},
   "outputs": [],
   "source": []
  }
 ],
 "metadata": {
  "kernelspec": {
   "display_name": "Python (new weldx)",
   "language": "python",
   "name": "weldx"
  },
  "language_info": {
   "codemirror_mode": {
    "name": "ipython",
    "version": 3
   },
   "file_extension": ".py",
   "mimetype": "text/x-python",
   "name": "python",
   "nbconvert_exporter": "python",
   "pygments_lexer": "ipython3",
   "version": "3.9.6"
  }
 },
 "nbformat": 4,
 "nbformat_minor": 5
}
