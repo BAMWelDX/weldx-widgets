{
 "cells": [
  {
   "cell_type": "code",
   "execution_count": null,
   "id": "1ed30c15-239d-4c4c-9129-c0e72a1db486",
   "metadata": {},
   "outputs": [],
   "source": [
    "%load_ext autoreload\n",
    "%autoreload 2"
   ]
  },
  {
   "cell_type": "code",
   "execution_count": null,
   "id": "4d4ad845",
   "metadata": {},
   "outputs": [],
   "source": [
    "%matplotlib widget"
   ]
  },
  {
   "cell_type": "code",
   "execution_count": null,
   "id": "generous-pharmacology",
   "metadata": {},
   "outputs": [],
   "source": [
    "from widget_groove_sel import GrooveSelectionWidget, WidgetGrooveSelectionTCPMovement"
   ]
  },
  {
   "cell_type": "code",
   "execution_count": null,
   "id": "df1c6d29-ec54-44dd-bc1e-1935b98d7f59",
   "metadata": {},
   "outputs": [],
   "source": [
    "#%time g = GrooveSelectionWidget()"
   ]
  },
  {
   "cell_type": "code",
   "execution_count": null,
   "id": "c4c3981e-d73f-4156-a745-9c02995be640",
   "metadata": {},
   "outputs": [],
   "source": [
    "#%time g.display()"
   ]
  },
  {
   "cell_type": "code",
   "execution_count": null,
   "id": "b6293557",
   "metadata": {},
   "outputs": [],
   "source": [
    "sel_movement = WidgetGrooveSelectionTCPMovement()\n",
    "sel_movement.display()"
   ]
  },
  {
   "cell_type": "code",
   "execution_count": null,
   "id": "53a0fde2-8e1d-4e64-8de9-bdf2de88a77c",
   "metadata": {},
   "outputs": [],
   "source": []
  }
 ],
 "metadata": {
  "jupytext": {
   "formats": "ipynb,py:light"
  },
  "kernelspec": {
   "display_name": "Python (new weldx)",
   "language": "python",
   "name": "weldx"
  },
  "language_info": {
   "codemirror_mode": {
    "name": "ipython",
    "version": 3
   },
   "file_extension": ".py",
   "mimetype": "text/x-python",
   "name": "python",
   "nbconvert_exporter": "python",
   "pygments_lexer": "ipython3",
   "version": "3.9.6"
  }
 },
 "nbformat": 4,
 "nbformat_minor": 5
}
