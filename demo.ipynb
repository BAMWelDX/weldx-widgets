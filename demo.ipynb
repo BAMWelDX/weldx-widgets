{
 "cells": [
  {
   "cell_type": "code",
   "execution_count": 1,
   "metadata": {},
   "outputs": [],
   "source": [
    "import abc\n",
    "%load_ext autoreload\n",
    "%autoreload 2"
   ]
  },
  {
   "cell_type": "code",
   "execution_count": 7,
   "metadata": {},
   "outputs": [],
   "source": [
    "import inspect\n",
    "from unittest.mock import MagicMock\n",
    "from weldx_widgets.widget_base import WidgetBase as base\n",
    "\n",
    "def all_subclasses(cls):\n",
    "    return set(cls.__subclasses__()).union(\n",
    "        [s for c in cls.__subclasses__() for s in all_subclasses(c)])"
   ]
  },
  {
   "cell_type": "code",
   "execution_count": 32,
   "metadata": {
    "pycharm": {
     "name": "#%%\n"
    }
   },
   "outputs": [
    {
     "name": "stdout",
     "output_type": "stream",
     "text": [
      "<class 'weldx_widgets.widget_base.WidgetSimpleOutput'> object.__init__() takes exactly one argument (the instance to initialize)\n",
      "mocked  mh24_file mh24_file\n",
      "<class 'weldx_widgets.widget_scans.WidgetScans'> __init__() missing 2 required positional arguments: 'tool_file' and 'scans_dir'\n",
      "mocked  tool_file tool_file\n",
      "<class 'weldx_widgets.widget_scans.WidgetScans'> __init__() missing 1 required positional argument: 'scans_dir'\n",
      "mocked  scans_dir scans_dir\n",
      "<class 'weldx_widgets.widget_scans.WidgetScans'> object.__init__() takes exactly one argument (the instance to initialize)\n",
      "<class 'weldx_widgets.widget_scans.WidgetScans'> object.__init__() takes exactly one argument (the instance to initialize)\n",
      "<class 'weldx_widgets.widget_scans.WidgetScans'> object.__init__() takes exactly one argument (the instance to initialize)\n",
      "<class 'traitlets.traitlets.VBox_WidgetBase'> Can't instantiate abstract class VBox_WidgetBase with abstract methods display, set_visible\n",
      "<class 'traitlets.traitlets.VBox_WidgetBase'> Can't instantiate abstract class VBox_WidgetBase with abstract methods display, set_visible\n",
      "<class 'weldx_widgets.generic.WidgetSaveButton'> object.__init__() takes exactly one argument (the instance to initialize)\n",
      "<class 'weldx_widgets.generic.WidgetSaveButton'> object.__init__() takes exactly one argument (the instance to initialize)\n",
      "<class 'weldx_widgets.generic.WidgetSaveButton'> object.__init__() takes exactly one argument (the instance to initialize)\n",
      "mocked  base_unit base_unit\n",
      "<class 'weldx_widgets.generic.WidgetTimeSeries'> __init__() missing 1 required positional argument: 'time_unit'\n",
      "mocked  time_unit time_unit\n"
     ]
    },
    {
     "ename": "NameError",
     "evalue": "name 'TS' is not defined",
     "output_type": "error",
     "traceback": [
      "\u001B[0;31m---------------------------------------------------------------------------\u001B[0m",
      "\u001B[0;31mNameError\u001B[0m                                 Traceback (most recent call last)",
      "\u001B[0;32m/tmp/ipykernel_592489/3493373803.py\u001B[0m in \u001B[0;36m<module>\u001B[0;34m\u001B[0m\n\u001B[1;32m     14\u001B[0m             \u001B[0mprint\u001B[0m\u001B[0;34m(\u001B[0m\u001B[0;34m\"mocked \"\u001B[0m\u001B[0;34m,\u001B[0m\u001B[0mk\u001B[0m\u001B[0;34m,\u001B[0m\u001B[0mv\u001B[0m\u001B[0;34m)\u001B[0m\u001B[0;34m\u001B[0m\u001B[0;34m\u001B[0m\u001B[0m\n\u001B[1;32m     15\u001B[0m         \u001B[0;32mtry\u001B[0m\u001B[0;34m:\u001B[0m\u001B[0;34m\u001B[0m\u001B[0;34m\u001B[0m\u001B[0m\n\u001B[0;32m---> 16\u001B[0;31m             \u001B[0mall_widgets\u001B[0m\u001B[0;34m.\u001B[0m\u001B[0mappend\u001B[0m\u001B[0;34m(\u001B[0m\u001B[0mcls\u001B[0m\u001B[0;34m(\u001B[0m\u001B[0;34m**\u001B[0m\u001B[0m_mock_args\u001B[0m\u001B[0;34m)\u001B[0m\u001B[0;34m)\u001B[0m\u001B[0;34m\u001B[0m\u001B[0;34m\u001B[0m\u001B[0m\n\u001B[0m\u001B[1;32m     17\u001B[0m         \u001B[0;32mexcept\u001B[0m \u001B[0mTypeError\u001B[0m \u001B[0;32mas\u001B[0m \u001B[0mte\u001B[0m\u001B[0;34m:\u001B[0m\u001B[0;34m\u001B[0m\u001B[0;34m\u001B[0m\u001B[0m\n\u001B[1;32m     18\u001B[0m             \u001B[0mprint\u001B[0m\u001B[0;34m(\u001B[0m\u001B[0mcls\u001B[0m\u001B[0;34m,\u001B[0m \u001B[0mte\u001B[0m\u001B[0;34m)\u001B[0m\u001B[0;34m\u001B[0m\u001B[0;34m\u001B[0m\u001B[0m\n",
      "\u001B[0;32m~/sources/weldx-widgets/weldx_widgets/generic.py\u001B[0m in \u001B[0;36m__init__\u001B[0;34m(self, base_unit, time_unit)\u001B[0m\n\u001B[1;32m     61\u001B[0m     \u001B[0;32mdef\u001B[0m \u001B[0m__init__\u001B[0m\u001B[0;34m(\u001B[0m\u001B[0mself\u001B[0m\u001B[0;34m,\u001B[0m \u001B[0mbase_unit\u001B[0m\u001B[0;34m,\u001B[0m \u001B[0mtime_unit\u001B[0m\u001B[0;34m)\u001B[0m\u001B[0;34m:\u001B[0m\u001B[0;34m\u001B[0m\u001B[0;34m\u001B[0m\u001B[0m\n\u001B[1;32m     62\u001B[0m         \u001B[0mself\u001B[0m\u001B[0;34m.\u001B[0m\u001B[0mbase_unit\u001B[0m \u001B[0;34m=\u001B[0m \u001B[0;36m0\u001B[0m\u001B[0;34m\u001B[0m\u001B[0;34m\u001B[0m\u001B[0m\n\u001B[0;32m---> 63\u001B[0;31m         \u001B[0mself\u001B[0m\u001B[0;34m.\u001B[0m\u001B[0mdata\u001B[0m \u001B[0;34m=\u001B[0m \u001B[0;34m(\u001B[0m\u001B[0mTS\u001B[0m\u001B[0;34m(\u001B[0m\u001B[0mdata\u001B[0m\u001B[0;34m=\u001B[0m\u001B[0mQ_\u001B[0m\u001B[0;34m(\u001B[0m\u001B[0;34m[\u001B[0m\u001B[0;36m40.0\u001B[0m\u001B[0;34m,\u001B[0m \u001B[0;36m20.0\u001B[0m\u001B[0;34m]\u001B[0m\u001B[0;34m,\u001B[0m \u001B[0;34m\"V\"\u001B[0m\u001B[0;34m)\u001B[0m\u001B[0;34m,\u001B[0m \u001B[0mtime\u001B[0m\u001B[0;34m=\u001B[0m\u001B[0mQ_\u001B[0m\u001B[0;34m(\u001B[0m\u001B[0;34m[\u001B[0m\u001B[0;36m0.0\u001B[0m\u001B[0;34m,\u001B[0m \u001B[0;36m10.0\u001B[0m\u001B[0;34m]\u001B[0m\u001B[0;34m,\u001B[0m \u001B[0;34m\"s\"\u001B[0m\u001B[0;34m)\u001B[0m\u001B[0;34m)\u001B[0m\u001B[0;34m,\u001B[0m\u001B[0;34m)\u001B[0m\u001B[0;34m\u001B[0m\u001B[0;34m\u001B[0m\u001B[0m\n\u001B[0m\u001B[1;32m     64\u001B[0m \u001B[0;34m\u001B[0m\u001B[0m\n\u001B[1;32m     65\u001B[0m     \u001B[0;32mdef\u001B[0m \u001B[0mto_tree\u001B[0m\u001B[0;34m(\u001B[0m\u001B[0mself\u001B[0m\u001B[0;34m)\u001B[0m\u001B[0;34m:\u001B[0m\u001B[0;34m\u001B[0m\u001B[0;34m\u001B[0m\u001B[0m\n",
      "\u001B[0;31mNameError\u001B[0m: name 'TS' is not defined"
     ]
    }
   ],
   "source": [
    "all_widgets = []\n",
    "\n",
    "for cls in all_subclasses(base):\n",
    "    args = inspect.signature(cls.__init__)\n",
    "    _mock_args = dict()\n",
    "    for k, v in args.parameters.items():\n",
    "        if k == \"self\":\n",
    "            continue\n",
    "        if k!= \"kwargs\" and v.POSITIONAL_OR_KEYWORD and v.default is inspect.Parameter.empty:\n",
    "            _mock_args[k] = MagicMock()\n",
    "            print(\"mocked \",k,v)\n",
    "        try:\n",
    "            all_widgets.append(cls(**_mock_args))\n",
    "        except TypeError as te:\n",
    "            print(cls, te)\n",
    "            continue"
   ]
  },
  {
   "cell_type": "code",
   "execution_count": 4,
   "metadata": {
    "collapsed": false,
    "jupyter": {
     "outputs_hidden": false
    },
    "pycharm": {
     "name": "#%%\n"
    }
   },
   "outputs": [],
   "source": [
    "# display all\n",
    "for obj in all_widgets:\n",
    "    obj.display()"
   ]
  }
 ],
 "metadata": {
  "kernelspec": {
   "display_name": "weldx real",
   "language": "python",
   "name": "weldx"
  },
  "language_info": {
   "codemirror_mode": {
    "name": "ipython",
    "version": 3
   },
   "file_extension": ".py",
   "mimetype": "text/x-python",
   "name": "python",
   "nbconvert_exporter": "python",
   "pygments_lexer": "ipython3",
   "version": "3.9.6"
  }
 },
 "nbformat": 4,
 "nbformat_minor": 4
}