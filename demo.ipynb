{
 "cells": [
  {
   "cell_type": "code",
   "execution_count": null,
   "metadata": {},
   "outputs": [],
   "source": [
    "import abc\n",
    "%load_ext autoreload\n",
    "%autoreload 2"
   ]
  },
  {
   "cell_type": "code",
   "execution_count": null,
   "metadata": {},
   "outputs": [],
   "source": [
    "import inspect\n",
    "from unittest.mock import MagicMock\n",
    "from weldx_widgets.widget_base import WidgetBase as base\n",
    "\n",
    "def all_subclasses(cls):\n",
    "    return set(cls.__subclasses__()).union(\n",
    "        [s for c in cls.__subclasses__() for s in all_subclasses(c)])"
   ]
  },
  {
   "cell_type": "code",
   "execution_count": null,
   "metadata": {
    "pycharm": {
     "name": "#%%\n"
    }
   },
   "outputs": [],
   "source": [
    "all_widgets = []\n",
    "\n",
    "for cls in all_subclasses(base):\n",
    "    args = inspect.signature(cls.__init__)\n",
    "    _mock_args = dict()\n",
    "    for k, v in args.parameters.items():\n",
    "        if k == \"self\":\n",
    "            continue\n",
    "        if k!= \"kwargs\" and v.POSITIONAL_OR_KEYWORD and v.default is inspect.Parameter.empty:\n",
    "            _mock_args[k] = MagicMock()\n",
    "            print(\"mocked \",k,v)\n",
    "        try:\n",
    "            all_widgets.append(cls(**_mock_args))\n",
    "        except TypeError as te:\n",
    "            print(cls, te)\n",
    "            continue"
   ]
  },
  {
   "cell_type": "code",
   "execution_count": null,
   "metadata": {
    "jupyter": {
     "outputs_hidden": false
    },
    "pycharm": {
     "name": "#%%\n"
    }
   },
   "outputs": [],
   "source": [
    "# display all\n",
    "for obj in all_widgets:\n",
    "    obj.display()"
   ]
  }
 ],
 "metadata": {
  "kernelspec": {
   "display_name": "weldx real",
   "language": "python",
   "name": "weldx"
  },
  "language_info": {
   "codemirror_mode": {
    "name": "ipython",
    "version": 3
   },
   "file_extension": ".py",
   "mimetype": "text/x-python",
   "name": "python",
   "nbconvert_exporter": "python",
   "pygments_lexer": "ipython3",
   "version": "3.9.6"
  }
 },
 "nbformat": 4,
 "nbformat_minor": 4
}
